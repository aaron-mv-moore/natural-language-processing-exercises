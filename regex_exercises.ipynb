{
 "cells": [
  {
   "cell_type": "code",
   "execution_count": 1,
   "id": "75809578",
   "metadata": {},
   "outputs": [],
   "source": [
    "import pandas as pd\n",
    "import re"
   ]
  },
  {
   "cell_type": "markdown",
   "id": "b64d042c",
   "metadata": {},
   "source": [
    "### Write a function named is_vowel. It should accept a string as input and use a regular expression to determine if the passed string is a vowel. While not explicity mentioned in the lesson, you can treat the result of re.search as a boolean value that indicates whether or not the regular expression matches the given string."
   ]
  },
  {
   "cell_type": "code",
   "execution_count": 23,
   "id": "8c2e678e",
   "metadata": {},
   "outputs": [],
   "source": [
    "def is_vowel(subject):\n",
    "    '''\n",
    "    Takes in a letter and determines if it is a vowel or not using True or False\n",
    "    \n",
    "    '''\n",
    "    # establish vowels\n",
    "    regexp = r'^[aeiouAEIOU]{1}$'\n",
    "    \n",
    "    # exit functio and return a boolean values if the string matches the regexp parameters\n",
    "    return bool(re.search(regexp, subject))\n",
    "    "
   ]
  },
  {
   "cell_type": "code",
   "execution_count": 24,
   "id": "89176751",
   "metadata": {},
   "outputs": [
    {
     "data": {
      "text/plain": [
       "False"
      ]
     },
     "execution_count": 24,
     "metadata": {},
     "output_type": "execute_result"
    }
   ],
   "source": [
    "is_vowel('aaaa')"
   ]
  },
  {
   "cell_type": "code",
   "execution_count": null,
   "id": "acbe7085",
   "metadata": {},
   "outputs": [],
   "source": []
  },
  {
   "cell_type": "markdown",
   "id": "5ae1a8aa",
   "metadata": {},
   "source": [
    "### Write a function named is_valid_username that accepts a string as input. A valid username starts with a lowercase letter, and only consists of lowercase letters, numbers, or the _ character. It should also be no longer than 32 characters. The function should return either True or False depending on whether the passed string is a valid username."
   ]
  },
  {
   "cell_type": "code",
   "execution_count": 25,
   "id": "6c6389e8",
   "metadata": {},
   "outputs": [],
   "source": [
    "def is_valid_username(subject):\n",
    "    '''\n",
    "    Takes in a string and determines if it is a valid user name based on regexp parameters\n",
    "    '''\n",
    "    \n",
    "    regexp = r'^[a-z][a-z\\d_]{,31}$'\n",
    "    \n",
    "    return bool(re.search(regexp, subject))"
   ]
  },
  {
   "cell_type": "code",
   "execution_count": 5,
   "id": "19dec018",
   "metadata": {},
   "outputs": [],
   "source": [
    "regexp = r'^[a-z][a-z\\d_]{31}\\b'\n",
    "subject = 'aaaaaaaaaaaaaaaaaaaaaaaaaaaaaaaaa'\n",
    "re.search(regexp, subject)"
   ]
  },
  {
   "cell_type": "code",
   "execution_count": 34,
   "id": "c135f0de",
   "metadata": {},
   "outputs": [
    {
     "data": {
      "text/plain": [
       "False"
      ]
     },
     "execution_count": 34,
     "metadata": {},
     "output_type": "execute_result"
    }
   ],
   "source": [
    ">>> is_valid_username('aaaaaaaaaA123aaaaaaaaaaaaaa')"
   ]
  },
  {
   "cell_type": "code",
   "execution_count": 27,
   "id": "4b81834c",
   "metadata": {},
   "outputs": [
    {
     "data": {
      "text/plain": [
       "True"
      ]
     },
     "execution_count": 27,
     "metadata": {},
     "output_type": "execute_result"
    }
   ],
   "source": [
    ">>> is_valid_username('codeup')\n",
    "# True"
   ]
  },
  {
   "cell_type": "code",
   "execution_count": 28,
   "id": "efd6e6ea",
   "metadata": {},
   "outputs": [
    {
     "data": {
      "text/plain": [
       "False"
      ]
     },
     "execution_count": 28,
     "metadata": {},
     "output_type": "execute_result"
    }
   ],
   "source": [
    ">>> is_valid_username('Codeup')\n",
    "# False"
   ]
  },
  {
   "cell_type": "code",
   "execution_count": 29,
   "id": "d78d6254",
   "metadata": {},
   "outputs": [
    {
     "data": {
      "text/plain": [
       "True"
      ]
     },
     "execution_count": 29,
     "metadata": {},
     "output_type": "execute_result"
    }
   ],
   "source": [
    ">>> is_valid_username('codeup123')\n",
    "# True"
   ]
  },
  {
   "cell_type": "code",
   "execution_count": 30,
   "id": "f764409a",
   "metadata": {},
   "outputs": [
    {
     "data": {
      "text/plain": [
       "False"
      ]
     },
     "execution_count": 30,
     "metadata": {},
     "output_type": "execute_result"
    }
   ],
   "source": [
    ">>> is_valid_username('1codeup')\n",
    "# False"
   ]
  },
  {
   "cell_type": "markdown",
   "id": "c275a265",
   "metadata": {},
   "source": [
    "### Write a regular expression to capture phone numbers. It should match all of the following:    "
   ]
  },
  {
   "cell_type": "code",
   "execution_count": 38,
   "id": "3fcf3f85",
   "metadata": {},
   "outputs": [
    {
     "data": {
      "text/plain": [
       "<re.Match object; span=(0, 12), match='210-867-5309'>"
      ]
     },
     "execution_count": 38,
     "metadata": {},
     "output_type": "execute_result"
    }
   ],
   "source": [
    "# matches all\n",
    "regexp = r'(\\+\\d+)?.?(\\(?\\d{3}\\)?)?.?\\d{3}.?(\\d{4})'\n",
    "# regexp = r'[\\D\\d]{0,3}?(\\d{3})?\\D{,2}?(\\d{3})\\D[\\d]{4}\\b'\n",
    "subject = '210-867-5309'\n",
    "re.search(regexp, subject)"
   ]
  },
  {
   "cell_type": "markdown",
   "id": "b90e61af",
   "metadata": {},
   "source": [
    "(210) 867 5309\n",
    "+1 210.867.5309\n",
    "867-5309\n",
    "210-867-5309"
   ]
  },
  {
   "cell_type": "markdown",
   "id": "81ed14f6",
   "metadata": {},
   "source": [
    "### Use regular expressions to convert the dates below to the standardized year-month-day format."
   ]
  },
  {
   "cell_type": "code",
   "execution_count": 12,
   "id": "945de1cf",
   "metadata": {},
   "outputs": [
    {
     "data": {
      "text/plain": [
       "'2019-04-02'"
      ]
     },
     "execution_count": 12,
     "metadata": {},
     "output_type": "execute_result"
    }
   ],
   "source": [
    "# matches all\n",
    "regexp = r'(\\d{2})/(\\d{2})/(\\d{2})'\n",
    "subject = '02/04/19'\n",
    "\n",
    "re.sub(regexp, r'20\\3-\\2-\\1', subject)"
   ]
  },
  {
   "cell_type": "code",
   "execution_count": 13,
   "id": "b000493b",
   "metadata": {},
   "outputs": [
    {
     "data": {
      "text/plain": [
       "['02/04/19',\n",
       " '02/05/19',\n",
       " '02/06/19',\n",
       " '02/07/19',\n",
       " '02/08/19',\n",
       " '02/09/19',\n",
       " '02/10/19']"
      ]
     },
     "execution_count": 13,
     "metadata": {},
     "output_type": "execute_result"
    }
   ],
   "source": [
    "dates = ['02/04/19',\n",
    "'02/05/19',\n",
    "'02/06/19',\n",
    "'02/07/19',\n",
    "'02/08/19',\n",
    "'02/09/19',\n",
    "'02/10/19']\n",
    "\n",
    "dates"
   ]
  },
  {
   "cell_type": "code",
   "execution_count": 14,
   "id": "0854ab43",
   "metadata": {},
   "outputs": [
    {
     "name": "stdout",
     "output_type": "stream",
     "text": [
      "2019-04-02\n",
      "2019-05-02\n",
      "2019-06-02\n",
      "2019-07-02\n",
      "2019-08-02\n",
      "2019-09-02\n",
      "2019-10-02\n"
     ]
    }
   ],
   "source": [
    "regexp = r'(\\d{2})/(\\d{2})/(\\d{2})'\n",
    "\n",
    "for date in dates:\n",
    "    \n",
    "    print(re.sub(regexp, r'20\\3-\\2-\\1', date))"
   ]
  },
  {
   "cell_type": "markdown",
   "id": "3784c7ad",
   "metadata": {},
   "source": [
    "### Write a regex to extract the various parts of these logfile lines:"
   ]
  },
  {
   "cell_type": "code",
   "execution_count": 16,
   "id": "a41dbdcf",
   "metadata": {},
   "outputs": [],
   "source": [
    "# match = re.search(regexp, text, re.VERBOSE) # whitespace in the regex is ignored\n",
    "# match.groupdict()"
   ]
  },
  {
   "cell_type": "code",
   "execution_count": 17,
   "id": "8a178168",
   "metadata": {},
   "outputs": [
    {
     "data": {
      "text/plain": [
       "<re.Match object; span=(0, 96), match='GET /api/v1/items?page=3 [16/Apr/2019:193453+0000>"
      ]
     },
     "execution_count": 17,
     "metadata": {},
     "output_type": "execute_result"
    }
   ],
   "source": [
    "# matches all\n",
    "regexp = r'''(?P<call>[A-Z]{,4})\\s(?P<path>.*?)\\s(?P<datetime>.*?)\\s(?P<idk>HTTP/1.1)\\s(\\{\\d{3}\\})\\s(?P<numberthing>\\d+?)\\s(?P<string>\\\".*\\\")\\s(?P<ip>.*?)'''\n",
    "\n",
    "subject = 'GET /api/v1/items?page=3 [16/Apr/2019:193453+0000] HTTP/1.1 {429} 3561 \"python-requests/2.21.0\" 97.105.19.58'\n",
    "\n",
    "re.search(regexp, subject, re.VERBOSE)"
   ]
  },
  {
   "cell_type": "markdown",
   "id": "8ca9674e",
   "metadata": {},
   "source": [
    "GET /api/v1/sales?page=86 [16/Apr/2019:193452+0000] HTTP/1.1 {200} 510348 \"python-requests/2.21.0\" 97.105.19.58\n",
    "POST /users_accounts/file-upload [16/Apr/2019:193452+0000] HTTP/1.1 {201} 42 \"User-Agent: Mozilla/5.0 (X11; Fedora; Fedora; Linux x86_64) AppleWebKit/537.36 (KHTML, like Gecko) Chrome/73.0.3683.86 Safari/537.36\" 97.105.19.58\n",
    "GET /api/v1/items?page=3 [16/Apr/2019:193453+0000] HTTP/1.1 {429} 3561 \"python-requests/2.21.0\" 97.105.19.58\n"
   ]
  }
 ],
 "metadata": {
  "kernelspec": {
   "display_name": "Python 3 (ipykernel)",
   "language": "python",
   "name": "python3"
  },
  "language_info": {
   "codemirror_mode": {
    "name": "ipython",
    "version": 3
   },
   "file_extension": ".py",
   "mimetype": "text/x-python",
   "name": "python",
   "nbconvert_exporter": "python",
   "pygments_lexer": "ipython3",
   "version": "3.9.13"
  }
 },
 "nbformat": 4,
 "nbformat_minor": 5
}
