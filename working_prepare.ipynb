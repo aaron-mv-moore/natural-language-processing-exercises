{
 "cells": [
  {
   "cell_type": "code",
   "execution_count": 1,
   "id": "d698d9d5",
   "metadata": {},
   "outputs": [],
   "source": [
    "import pandas as pd\n",
    "\n",
    "import nltk\n",
    "# nltk.download('all')\n",
    "\n",
    "from nltk.tokenize.toktok import ToktokTokenizer\n",
    "from nltk.corpus import stopwords\n",
    "\n",
    "import re\n",
    "import unicodedata\n",
    "import json\n",
    "\n",
    "from acquire import get_blog_articles, get_news_articles"
   ]
  },
  {
   "cell_type": "code",
   "execution_count": 5,
   "id": "038ca5b2",
   "metadata": {},
   "outputs": [],
   "source": [
    "def basic_clean(text: str):\n",
    "    '''\n",
    "    Takes in a string, makes all characters lowercase, normalizes all characters, and removes unnnecessary special characters\n",
    "    import re\n",
    "    import unicodedata\n",
    "    '''\n",
    "    # lowercase all words\n",
    "    lowered = text.lower()\n",
    "    \n",
    "    # normalize unicode characters using lowered\n",
    "    normalized = unicodedata.normalize('NFKD', lowered).encode('ascii', 'ignore').decode('utf-8', 'ignore')\n",
    "    \n",
    "    # replacing unnecessary characters from normalized\n",
    "    cleaned = re.sub(r\"[^a-z0-9'\\s]\", '', normalized)\n",
    "    \n",
    "    return cleaned"
   ]
  },
  {
   "cell_type": "code",
   "execution_count": 6,
   "id": "b7f4c541",
   "metadata": {},
   "outputs": [
    {
     "data": {
      "text/plain": [
       "'      women in tech panelist spotlight  magdalena rahn mar 28 2023  events featured   women in tech panelist spotlight  magdalena rahn codeup is hosting a women in tech panel in honor of womens history month on march 29th 2023 to further celebrate wed like to spotlight each of our panelists leading up to the discussion to learn a bit about their respective experiences as women in the tech industry  meet magdalena magdalena rahn is a current codeup student in a data science cohort in san antonio texas she has a professional background in crosscultural communications international business development the wine industry and journalism after serving in the us navy she decided to complement her professional skill set by attending the data science program at codeup she is set to graduate in march 2023 magdalena is fluent in french bulgarian chinesemandarin spanish and italian we asked magdalena how codeup impacted her career and she replied codeup has provided a solid foundation in analytical processes programming and data science methods and its been an encouragement to have such supportive instructors and wonderful classmates dont forget to tune in on march 29th to sit in on an insightful conversation with magdalena         our programscloud administration full stack web development data science      latest blog articles women in tech panelist spotlight  magdalena rahn women in tech panelist spotlight  rachel robbinsmayhill women in tech panelist spotlight  sarah mellor women in tech panelist spotlight  madeleine capper black excellence in tech panelist spotlight  wilmarie de la cruz mejia                      '"
      ]
     },
     "execution_count": 6,
     "metadata": {},
     "output_type": "execute_result"
    }
   ],
   "source": [
    "basic_clean(blog[0]['content'])"
   ]
  },
  {
   "cell_type": "code",
   "execution_count": 2,
   "id": "bfe6543d",
   "metadata": {},
   "outputs": [
    {
     "name": "stderr",
     "output_type": "stream",
     "text": [
      "/Users/aaron/codeup-data-science/natural-language-processing-exercises/acquire.py:65: GuessedAtParserWarning: No parser was explicitly specified, so I'm using the best available HTML parser for this system (\"lxml\"). This usually isn't a problem, but if you run this code on another system, or in a different virtual environment, it may use a different parser and behave differently.\n",
      "\n",
      "The code that caused this warning is on line 65 of the file /Users/aaron/codeup-data-science/natural-language-processing-exercises/acquire.py. To get rid of this warning, pass the additional argument 'features=\"lxml\"' to the BeautifulSoup constructor.\n",
      "\n",
      "  soup = BeautifulSoup(response.text)\n"
     ]
    }
   ],
   "source": [
    "# getting blog articles to test the function with\n",
    "blog = get_blog_articles()"
   ]
  },
  {
   "cell_type": "code",
   "execution_count": null,
   "id": "784fca78",
   "metadata": {
    "collapsed": true
   },
   "outputs": [],
   "source": []
  },
  {
   "cell_type": "code",
   "execution_count": 42,
   "id": "bd6feada",
   "metadata": {},
   "outputs": [],
   "source": [
    " re.sub(r\"\\n\", ' ',)"
   ]
  },
  {
   "cell_type": "code",
   "execution_count": 43,
   "id": "84651922",
   "metadata": {},
   "outputs": [
    {
     "data": {
      "text/plain": [
       "'\\n\\n\\n\\n\\n\\nwomen in tech panelist spotlight  magdalena rahn\\nmar 28 2023  events featured\\n\\n\\nwomen in tech panelist spotlight  magdalena rahn\\ncodeup is hosting a women in tech panel in honor of womens history month on march 29th 2023 to further celebrate wed like to spotlight each of our panelists leading up to the discussion to learn a bit about their respective experiences as women in the tech industry\\n\\nmeet magdalena\\nmagdalena rahn is a current codeup student in a data science cohort in san antonio '"
      ]
     },
     "execution_count": 43,
     "metadata": {},
     "output_type": "execute_result"
    }
   ],
   "source": [
    "lowered = blog[0]['content'].lower()\n",
    "\n",
    "normalized = unicodedata.normalize('NFKD', lowered).encode('ascii', 'ignore').decode('utf-8', 'ignore')\n",
    "\n",
    "cleaned = re.sub(r\"[^a-z0-9'\\s]\", '', normalized)\n",
    "cleaned[:500]"
   ]
  },
  {
   "cell_type": "code",
   "execution_count": 7,
   "id": "2f8e80c1",
   "metadata": {},
   "outputs": [
    {
     "data": {
      "text/plain": [
       "'      Women in tech: Panelist Spotlight – Magdalena Rahn Mar 28, 2023 | Events, Featured   Women in tech: Panelist Spotlight – Magdalena Rahn Codeup is hosting a Women in Tech Panel in honor of Women’s History Month on March 29th, 2023! To further celebrate, we’d like to spotlight each of our panelists leading up to the discussion to learn a bit about their respective experiences as women in the tech industry!  Meet Magdalena! Magdalena Rahn is a current Codeup student in a Data Science cohort in San Antonio, Texas. She has a professional background in cross-cultural communications, international business development, the wine industry and journalism. After serving in the US Navy, she decided to complement her professional skill set by attending the Data Science program at Codeup; she is set to graduate in March 2023. Magdalena is fluent in French, Bulgarian, Chinese-Mandarin, Spanish and Italian. We asked Magdalena how Codeup impacted her career, and she replied “Codeup has provided a solid foundation in analytical processes, programming and data science methods, and it’s been an encouragement to have such supportive instructors and wonderful classmates.” Don’t forget to tune in on March 29th to sit in on an insightful conversation with Magdalena.         Our ProgramsCloud Administration Full Stack Web Development Data Science      Latest Blog Articles Women in tech: Panelist Spotlight – Magdalena Rahn Women in tech: Panelist Spotlight – Rachel Robbins-Mayhill Women in Tech: Panelist Spotlight – Sarah Mellor Women in Tech: Panelist Spotlight – Madeleine Capper Black Excellence in Tech: Panelist Spotlight – Wilmarie De La Cruz Mejia                      '"
      ]
     },
     "execution_count": 7,
     "metadata": {},
     "output_type": "execute_result"
    }
   ],
   "source": [
    "blog[0]['content']"
   ]
  },
  {
   "cell_type": "code",
   "execution_count": 8,
   "id": "e9ec633e",
   "metadata": {},
   "outputs": [],
   "source": [
    "cleaned = basic_clean(blog[0]['content'])"
   ]
  },
  {
   "cell_type": "code",
   "execution_count": 65,
   "id": "1bf7b1b0",
   "metadata": {},
   "outputs": [],
   "source": [
    "cleaned = re.sub(r\"\\n\", ' ',cleaned)"
   ]
  },
  {
   "cell_type": "code",
   "execution_count": 69,
   "id": "da4a6d22",
   "metadata": {},
   "outputs": [],
   "source": [
    "# re.sub(r\"[a-z][A-Z]\", ' ',blog[0]['content'])"
   ]
  },
  {
   "cell_type": "code",
   "execution_count": 9,
   "id": "44b20bac",
   "metadata": {},
   "outputs": [
    {
     "data": {
      "text/plain": [
       "'      women in tech panelist spotlight  magdalena rahn mar 28 2023  events featured   women in tech panelist spotlight  magdalena rahn codeup is hosting a women in tech panel in honor of womens history month on march 29th 2023 to further celebrate wed like to spotlight each of our panelists leading up to the discussion to learn a bit about their respective experiences as women in the tech industry  meet magdalena magdalena rahn is a current codeup student in a data science cohort in san antonio texas she has a professional background in crosscultural communications international business development the wine industry and journalism after serving in the us navy she decided to complement her professional skill set by attending the data science program at codeup she is set to graduate in march 2023 magdalena is fluent in french bulgarian chinesemandarin spanish and italian we asked magdalena how codeup impacted her career and she replied codeup has provided a solid foundation in analytical processes programming and data science methods and its been an encouragement to have such supportive instructors and wonderful classmates dont forget to tune in on march 29th to sit in on an insightful conversation with magdalena         our programscloud administration full stack web development data science      latest blog articles women in tech panelist spotlight  magdalena rahn women in tech panelist spotlight  rachel robbinsmayhill women in tech panelist spotlight  sarah mellor women in tech panelist spotlight  madeleine capper black excellence in tech panelist spotlight  wilmarie de la cruz mejia                      '"
      ]
     },
     "execution_count": 9,
     "metadata": {},
     "output_type": "execute_result"
    }
   ],
   "source": [
    "cleaned"
   ]
  },
  {
   "cell_type": "code",
   "execution_count": 10,
   "id": "a42328cd",
   "metadata": {},
   "outputs": [],
   "source": [
    "def tokenize(string):\n",
    "    '''\n",
    "    Takes in a string and tokenizes the string\n",
    "    Modules:\n",
    "        from nltk.tokenize.toktok import ToktokTokenizer\n",
    "    '''\n",
    "    # initialize tokenizers\n",
    "    tokenizer = nltk.tokenize.ToktokTokenizer()\n",
    "    \n",
    "    # tokenize string and store in tokenized\n",
    "    tokenized = tokenizer.tokenize(string, return_str=True)\n",
    "    \n",
    "    return tokenized"
   ]
  },
  {
   "cell_type": "code",
   "execution_count": 11,
   "id": "b5b7329a",
   "metadata": {},
   "outputs": [],
   "source": [
    "tokenized = tokenize(cleaned)\n",
    "# tokenized"
   ]
  },
  {
   "cell_type": "code",
   "execution_count": 54,
   "id": "1374a965",
   "metadata": {},
   "outputs": [],
   "source": [
    "# initialize stem object\n",
    "ps = nltk.porter.PorterStemmer()\n",
    "\n",
    "# get a list of stems for each word in the string\n",
    "stems = [ps.stem(word) for word in tokenized.split()]\n",
    "\n",
    "# joining the words back together, using a space to separate each\n",
    "stemmed = ' '.join(stems)\n",
    "\n",
    "# getting the stemmedstring back\n",
    "# stemmed"
   ]
  },
  {
   "cell_type": "code",
   "execution_count": 22,
   "id": "7ba4a114",
   "metadata": {},
   "outputs": [],
   "source": [
    "def stem(string):\n",
    "    '''\n",
    "    Takes in a string and stems all words in tthe string, returrning a stemmed version of it\n",
    "    Modules:\n",
    "        import nltk\n",
    "    '''\n",
    "    # initialize stem object\n",
    "    ps = nltk.porter.PorterStemmer()\n",
    "\n",
    "    # get a list of stems for each word in the string\n",
    "    stems = [ps.stem(word) for word in string.split()]\n",
    "\n",
    "    # joining the words back together, using a space to separate each\n",
    "    stemmed = ' '.join(stems)\n",
    "\n",
    "    # getting the stemmedstring back\n",
    "    return stemmed"
   ]
  },
  {
   "cell_type": "code",
   "execution_count": 70,
   "id": "f1a35fbc",
   "metadata": {},
   "outputs": [],
   "source": [
    "# checking\n",
    "stemmed = stem(tokenized)\n",
    "# stemmed"
   ]
  },
  {
   "cell_type": "code",
   "execution_count": 77,
   "id": "691013cb",
   "metadata": {},
   "outputs": [
    {
     "data": {
      "text/plain": [
       "'woman in tech panelist spotlight magdalena rahn mar 28 2023 event featured woman in tech panelist spotlight magdalena rahn codeup is hosting a woman in tech panel in honor of woman history month on march 29th 2023 to further celebrate wed like to spotlight each of our panelist leading up to the discussion to learn a bit about their respective experience a woman in the tech industry meet magdalena magdalena rahn is a current codeup student in a data science cohort in san antonio texas she ha a professional background in crosscultural communication international business development the wine industry and journalism after serving in the u navy she decided to complement her professional skill set by attending the data science program at codeup she is set to graduate in march 2023 magdalena is fluent in french bulgarian chinesemandarin spanish and italian we asked magdalena how codeup impacted her career and she replied codeup ha provided a solid foundation in analytical process programming and data science method and it been an encouragement to have such supportive instructor and wonderful classmate dont forget to tune in on march 29th to sit in on an insightful conversation with magdalena our programscloud administration full stack web development data science latest blog article woman in tech panelist spotlight magdalena rahn woman in tech panelist spotlight rachel robbinsmayhill woman in tech panelist spotlight sarah mellor woman in tech panelist spotlight madeleine capper black excellence in tech panelist spotlight wilmarie de la cruz mejia'"
      ]
     },
     "execution_count": 77,
     "metadata": {},
     "output_type": "execute_result"
    }
   ],
   "source": [
    "# initializing lematizing object\n",
    "wnl = nltk.stem.WordNetLemmatizer()\n",
    "\n",
    "# getting a list of root words from each word in the split string\n",
    "lemmas = [wnl.lemmatize(word) for word in tokenized.split()]\n",
    "\n",
    "# rejoining the list of root words to form a lemmatized corpus\n",
    "lemmatized = ' '.join(lemmas)\n",
    "\n",
    "# doing the thing\n",
    "lemmatized"
   ]
  },
  {
   "cell_type": "code",
   "execution_count": 81,
   "id": "89c26317",
   "metadata": {},
   "outputs": [],
   "source": [
    "# checking value_counts\n",
    "# pd.Series(lemmas).value_counts()"
   ]
  },
  {
   "cell_type": "code",
   "execution_count": 12,
   "id": "e9c92c66",
   "metadata": {},
   "outputs": [],
   "source": [
    "def lemmatize(string):\n",
    "    '''\n",
    "    Takes in a string and returns it with all words in lemmatized form\n",
    "    Modules:\n",
    "        import nltk\n",
    "    '''\n",
    "    # initializing lematizing object\n",
    "    wnl = nltk.stem.WordNetLemmatizer()\n",
    "\n",
    "    # getting a list of root words from each word in the split string\n",
    "    lemmas = [wnl.lemmatize(word) for word in tokenized.split()]\n",
    "\n",
    "    # rejoining the list of root words to form a lemmatized corpus\n",
    "    lemmatized = ' '.join(lemmas)\n",
    "    \n",
    "    # exit and return lemmatized info\n",
    "    return lemmatized"
   ]
  },
  {
   "cell_type": "code",
   "execution_count": 13,
   "id": "ea225892",
   "metadata": {},
   "outputs": [],
   "source": [
    "lemmatized = lemmatize(tokenized)"
   ]
  },
  {
   "cell_type": "code",
   "execution_count": 122,
   "id": "9e9f4d37",
   "metadata": {},
   "outputs": [
    {
     "data": {
      "text/plain": [
       "'women tech panelist spotlight magdalena rahn mar 28 2023 events featured women tech panelist spotlight magdalena rahn codeup hosting women tech panel honor womens history month march 29th 2023 celebrate wed like spotlight panelists leading discussion learn bit respective experiences women tech industry meet magdalena magdalena rahn current codeup student data science cohort san antonio texas professional background crosscultural communications international business development wine industry journalism serving us navy decided complement professional skill set attending data science program codeup set graduate march 2023 magdalena fluent french bulgarian chinesemandarin spanish italian asked magdalena codeup impacted career replied codeup provided solid foundation analytical processes programming data science methods encouragement supportive instructors wonderful classmates dont forget tune march 29th sit insightful conversation magdalena programscloud administration full stack web development data science latest blog articles women tech panelist spotlight magdalena rahn women tech panelist spotlight rachel robbinsmayhill women tech panelist spotlight sarah mellor women tech panelist spotlight madeleine capper black excellence tech panelist spotlight wilmarie de la cruz mejia'"
      ]
     },
     "execution_count": 122,
     "metadata": {},
     "output_type": "execute_result"
    }
   ],
   "source": [
    "extra_words = ['CHICKEN']\n",
    "\n",
    "# establish stop word list\n",
    "stop_word_list = stopwords.words('english')\n",
    "exclude_words = ['CHICKEN']\n",
    "\n",
    "# if there are any words in the kwarg\n",
    "if bool(extra_words) == True:\n",
    "\n",
    "    # add them to the stop_word_list\n",
    "    stop_word_list = stop_word_list + extra_words\n",
    "\n",
    "# if there are any words in the kwarg\n",
    "if bool(exclude_words) == True:\n",
    "    \n",
    "    # remove them from the stop word list\n",
    "    stop_word_list = [word for word in stop_word_list if word not in exclude_words]\n",
    "\n",
    "filtered = [word for word in tokenized.split() if word not in stop_word_list]\n",
    "\n",
    "string_without_stopwords = ' '.join(filtered)\n",
    "\n",
    "string_without_stopwords"
   ]
  },
  {
   "cell_type": "code",
   "execution_count": 14,
   "id": "e699a790",
   "metadata": {},
   "outputs": [],
   "source": [
    "def remove_stopwords(string, extra_words=[], exclude_words=[]):\n",
    "    '''\n",
    "    takes in a string and removes stopwords using the stopwords\n",
    "    Modules:\n",
    "         from nltk.corpus import stopwords\n",
    "    '''\n",
    "    # establish stop word list\n",
    "    stop_word_list = stopwords.words('english')\n",
    "    \n",
    "    # if there are any words in the kwarg\n",
    "    if bool(extra_words) == True:\n",
    "\n",
    "        # add them to the stop_word_list\n",
    "        stop_word_list = stop_word_list + extra_words\n",
    "\n",
    "    # if there are any words in the kwarg\n",
    "    if bool(exclude_words) == True:\n",
    "\n",
    "        # remove them from the stop word list\n",
    "        stop_word_list = [word for word in stop_word_list if word not in exclude_words]\n",
    "        \n",
    "    # getting a list of words from string argument that are not in the list of stop words (removing the stopwords)\n",
    "    filtered = [word for word in string.split() if word not in stop_word_list]\n",
    "    \n",
    "    # rejoin all the words in the lsit with a space to reform string\n",
    "    string_without_stopwords = ' '.join(filtered)\n",
    "    \n",
    "    # exit and return the string\n",
    "    return string_without_stopwords"
   ]
  },
  {
   "cell_type": "code",
   "execution_count": 15,
   "id": "4e0f6cd5",
   "metadata": {},
   "outputs": [],
   "source": [
    "no_stops = remove_stopwords(tokenized, exclude_words=['no', 'not'])"
   ]
  },
  {
   "cell_type": "code",
   "execution_count": null,
   "id": "f005631f",
   "metadata": {},
   "outputs": [],
   "source": []
  },
  {
   "cell_type": "code",
   "execution_count": 19,
   "id": "c9341c30",
   "metadata": {},
   "outputs": [],
   "source": [
    "# creating the data fram\n",
    "codeup_df = pd.DataFrame(blog).T"
   ]
  },
  {
   "cell_type": "code",
   "execution_count": 23,
   "id": "c437e0c6",
   "metadata": {},
   "outputs": [],
   "source": [
    "codeup_df['clean'] = codeup_df.content.apply(basic_clean)\n",
    "codeup_df['stemmed'] = codeup_df.clean.apply(stem)\n",
    "codeup_df['lemmatized'] = codeup_df.clean.apply(lemmatize)"
   ]
  },
  {
   "cell_type": "code",
   "execution_count": 33,
   "id": "c6dd5949",
   "metadata": {},
   "outputs": [],
   "source": [
    "def prepare_df(data, col: str, transpose = False):\n",
    "    '''\n",
    "    Takes in a list or a dictionary of text data, turns it into a dataframe, adds a cleaned data col, stemmed col, and lemmatized col\n",
    "    Modules:\n",
    "        import pandas as pd\n",
    "    '''\n",
    "    # if kwarg is true, \n",
    "    if transpose == True:\n",
    "        \n",
    "        # transpose the df (dict)\n",
    "        df = pd.DataFrame(data).T\n",
    "    \n",
    "    # by default\n",
    "    else:\n",
    "        \n",
    "        # create regular df with the data (list)\n",
    "        df = pd.DataFrame(data)\n",
    "    \n",
    "    # apply the basic clean function to the text col and add to the df as a new col\n",
    "    df['clean'] = df[col].apply(basic_clean)\n",
    "    \n",
    "    # apply stem function to cleaned col and add to the df as a new col\n",
    "    df['stemmed'] = df.clean.apply(stem)\n",
    "    \n",
    "    # apply lemmatize funtion to cleaned col and add to the df as a new col\n",
    "    df['lemmatized'] = df.clean.apply(lemmatize)\n",
    "    \n",
    "    # returned prepped df\n",
    "    return df"
   ]
  },
  {
   "cell_type": "code",
   "execution_count": 35,
   "id": "7ac786bb",
   "metadata": {},
   "outputs": [
    {
     "data": {
      "text/plain": [
       "{0: {'title': 'Women in tech: Panelist Spotlight – Magdalena Rahn -',\n",
       "  'content': '      Women in tech: Panelist Spotlight – Magdalena Rahn Mar 28, 2023 | Events, Featured   Women in tech: Panelist Spotlight – Magdalena Rahn Codeup is hosting a Women in Tech Panel in honor of Women’s History Month on March 29th, 2023! To further celebrate, we’d like to spotlight each of our panelists leading up to the discussion to learn a bit about their respective experiences as women in the tech industry!  Meet Magdalena! Magdalena Rahn is a current Codeup student in a Data Science cohort in San Antonio, Texas. She has a professional background in cross-cultural communications, international business development, the wine industry and journalism. After serving in the US Navy, she decided to complement her professional skill set by attending the Data Science program at Codeup; she is set to graduate in March 2023. Magdalena is fluent in French, Bulgarian, Chinese-Mandarin, Spanish and Italian. We asked Magdalena how Codeup impacted her career, and she replied “Codeup has provided a solid foundation in analytical processes, programming and data science methods, and it’s been an encouragement to have such supportive instructors and wonderful classmates.” Don’t forget to tune in on March 29th to sit in on an insightful conversation with Magdalena.         Our ProgramsCloud Administration Full Stack Web Development Data Science      Latest Blog Articles Women in tech: Panelist Spotlight – Magdalena Rahn Women in tech: Panelist Spotlight – Rachel Robbins-Mayhill Women in Tech: Panelist Spotlight – Sarah Mellor Women in Tech: Panelist Spotlight – Madeleine Capper Black Excellence in Tech: Panelist Spotlight – Wilmarie De La Cruz Mejia                      '},\n",
       " 1: {'title': 'Women in tech: Panelist Spotlight - Rachel Robbins-Mayhill',\n",
       "  'content': '      Women in tech: Panelist Spotlight – Rachel Robbins-Mayhill Mar 20, 2023 | Events, Featured   Women in tech: Panelist Spotlight – Rachel Robbins-Mayhill Codeup is hosting a Women in Tech Panel in honor of Women’s History Month on March 29th, 2023! To further celebrate, we’d like to spotlight each of our panelists leading up to the discussion to learn a bit about their respective experiences as women in the tech industry! Meet Rachel!  Rachel Robbins-Mayhill is a Decision Science Analyst I in San Antonio, Texas. Rachel has had a varied career that includes counseling, teaching, training, community development, and military operations. Her focus has always been on assessing needs, identifying solutions, and educating individuals and groups on aligning needs and solutions in different contexts. Rachel’s passion for data science stems from her belief that data is a powerful tool for communicating patterns that can lead to hope and growth in the future. In June 2022, Rachel graduated from Codeup’s Innis cohort, where she honed her skills in data science. Shortly after, she started working as a Data Science Technical Writer with Apex Systems as a Contractor for USAA in July 2022. Her unconventional role allowed her to understand where her skills could be best utilized to support USAA in a non-contract role. Rachel recently joined USAA’s Data Science Delivery team as a Decision Science Analyst I in February 2023. The team is focused on delivering machine learning models for fraud prevention, and Rachel’s particular role centers around providing strategic process solutions for the team in collaboration with Operational and Model Risk components. In addition to her career, Rachel is currently pursuing a master’s degree in Applied Data Science from Syracuse University, further expanding her knowledge and skills in the field. Rachel is passionate about collaborating with individuals who share her belief in the potential of others and strive to achieve growth through logical, informed action. She welcomes LinkedIn connections and is excited about supporting the network of CodeUp alumni! We asked Rachel how Codeup impacted her career, and she replied “Codeup delivered a comprehensive education in all facets of the data science pipeline, laying a strong foundation for me to build upon. Through repeated hands-on practice, I developed a reliable process that was immediately applicable in my job. Collaborative group projects were instrumental in helping me hone my skills in project management, allowing me to navigate complex data science projects with comfortability. Thanks to this invaluable experience, I was able to make significant strides in my career within just six months of graduating from Codeup.” Don’t forget to tune in on March 29th to sit in on an insightful conversation.         Our ProgramsCloud Administration Full Stack Web Development Data Science      Latest Blog Articles Women in tech: Panelist Spotlight – Magdalena Rahn Women in tech: Panelist Spotlight – Rachel Robbins-Mayhill Women in Tech: Panelist Spotlight – Sarah Mellor Women in Tech: Panelist Spotlight – Madeleine Capper Black Excellence in Tech: Panelist Spotlight – Wilmarie De La Cruz Mejia                      '},\n",
       " 2: {'title': 'Women in Tech: Panelist Spotlight - Sarah Mellor - Codeup',\n",
       "  'content': '      Women in Tech: Panelist Spotlight – Sarah Mellor Mar 13, 2023 | Codeup News, Featured   Women in tech: Panelist Spotlight – Sarah Mellor\\xa0 Codeup is hosting a Women in Tech Panel in honor of Women’s History Month on March 29th, 2023! To further celebrate, we’d like to spotlight each of our panelists leading up to the discussion to learn a bit about their respective experiences as women in the tech industry! Meet Sarah! Sarah Mellor currently works as the Director of People Operations. She joined Codeup four and a half years ago as an Admissions Manager. She went on to build out and lead the Marketing and Admissions team, while picking up People Ops tasks and projects here and there until moving over to lead the People Ops team two years ago. Prior to Codeup, she worked at education-focused non-profits in Washington, DC and Boulder, Colorado. She graduated from Wake Forest University. We asked Sarah how Codeup has impacted her career, and her response was “I have absolutely loved having the privilege to grow alongside Codeup. In my time here across multiple different roles and departments, I’ve seen a lot of change. The consistent things have always been the high quality of passionate and hardworking people I get to work with; the impactful mission we get to work on; and the inspiring students who trust us with their career change.” Don’t forget to tune in on March 29th to sit in on an insightful conversation.         Our ProgramsCloud Administration Full Stack Web Development Data Science      Latest Blog Articles Women in tech: Panelist Spotlight – Magdalena Rahn Women in tech: Panelist Spotlight – Rachel Robbins-Mayhill Women in Tech: Panelist Spotlight – Sarah Mellor Women in Tech: Panelist Spotlight – Madeleine Capper Black Excellence in Tech: Panelist Spotlight – Wilmarie De La Cruz Mejia                      '},\n",
       " 3: {'title': 'Women in Tech: Panelist Spotlight - Madeleine Capper - Codeup',\n",
       "  'content': '      Women in Tech: Panelist Spotlight – Madeleine Capper Mar 6, 2023 | Events, Featured   Women in tech: Panelist Spotlight – Madeleine Capper Codeup is hosting a Women in Tech Panel in honor of Women’s History Month on March 29th, 2023! To further celebrate, we’d like to spotlight each of our panelists leading up to the discussion to learn a bit about their respective experiences as women in the tech industry! Meet Madeleine! Madeleine Capper is a Data Scientist in San Antonio, Texas. A long-standing San Antonio resident, she studied mathematics at the University of Texas San Antonio and has worked as a Data Scientist for Booz Allen Hamilton. Madeleine currently teaches Data Science at Codeup, where she works daily with burgeoning data professionals to help them actualize their career aspirations through technical education. Madeleine attended Codeup as a student in early 2019 as a pupil in the very first Codeup Data Science cohort. The program proved immediately effective and she was the first student to obtain a data career out of the program. After working at Booz Allen Hamilton, Madeleine’s passion for education in conjunction with her appreciation for Codeup’s capacity for transformative life change brought her back to the institution in an instructional capacity, where she has been teaching for two years. Don’t forget to tune in on March 29th to sit in on an insightful conversation.         Our ProgramsCloud Administration Full Stack Web Development Data Science      Latest Blog Articles Women in tech: Panelist Spotlight – Magdalena Rahn Women in tech: Panelist Spotlight – Rachel Robbins-Mayhill Women in Tech: Panelist Spotlight – Sarah Mellor Women in Tech: Panelist Spotlight – Madeleine Capper Black Excellence in Tech: Panelist Spotlight – Wilmarie De La Cruz Mejia                      '},\n",
       " 4: {'title': 'Black Excellence in Tech: Panelist Spotlight - Wilmarie De La Cruz Mejia',\n",
       "  'content': '      Black Excellence in Tech: Panelist Spotlight – Wilmarie De La Cruz Mejia Feb 16, 2023 | Codeup News, Events, Featured   Black excellence in tech: Panelist Spotlight – Wilmarie De La Cruz Mejia  Codeup is hosting a Black Excellence in Tech Panel in honor of Black History Month on February 22, 2023! To further celebrate, we’d like to spotlight each of our panelists leading up to the discussion to learn a bit about their respective experiences as black leaders in the tech industry!\\xa0\\xa0 Meet Wilmarie! Wilmarie De\\xa0La Cruz Mejia is a current Codeup student on the path to becoming a Full-Stack Web Developer at our Dallas, TX campus.\\xa0 Wilmarie is a veteran expanding her knowledge of programming languages and technologies on her journey with Codeup.\\xa0 We asked Wilmarie to share more about her experience at Codeup. She shares, “I was able to meet other people who were passionate about coding and be in a positive learning environment.” We hope you can join us on February 22nd to sit in on an insightful conversation with Wilmarie and all of our panelists!         Our ProgramsCloud Administration Full Stack Web Development Data Science      Latest Blog Articles Women in tech: Panelist Spotlight – Magdalena Rahn Women in tech: Panelist Spotlight – Rachel Robbins-Mayhill Women in Tech: Panelist Spotlight – Sarah Mellor Women in Tech: Panelist Spotlight – Madeleine Capper Black Excellence in Tech: Panelist Spotlight – Wilmarie De La Cruz Mejia                      '}}"
      ]
     },
     "execution_count": 35,
     "metadata": {},
     "output_type": "execute_result"
    }
   ],
   "source": [
    "blog"
   ]
  },
  {
   "cell_type": "code",
   "execution_count": 39,
   "id": "d23ecad6",
   "metadata": {},
   "outputs": [],
   "source": [
    "codeup_df = prepare_df(blog, 'content', transpose=True)"
   ]
  },
  {
   "cell_type": "code",
   "execution_count": 27,
   "id": "5109cfed",
   "metadata": {},
   "outputs": [],
   "source": [
    "news = get_news_articles()"
   ]
  },
  {
   "cell_type": "code",
   "execution_count": 38,
   "id": "8b4b543c",
   "metadata": {},
   "outputs": [],
   "source": [
    "news_df = prepare_df(news, 'content')"
   ]
  }
 ],
 "metadata": {
  "kernelspec": {
   "display_name": "Python 3 (ipykernel)",
   "language": "python",
   "name": "python3"
  },
  "language_info": {
   "codemirror_mode": {
    "name": "ipython",
    "version": 3
   },
   "file_extension": ".py",
   "mimetype": "text/x-python",
   "name": "python",
   "nbconvert_exporter": "python",
   "pygments_lexer": "ipython3",
   "version": "3.9.13"
  }
 },
 "nbformat": 4,
 "nbformat_minor": 5
}
