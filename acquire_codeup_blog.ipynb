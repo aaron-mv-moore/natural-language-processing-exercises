{
 "cells": [
  {
   "cell_type": "code",
   "execution_count": 6,
   "id": "7543007e",
   "metadata": {},
   "outputs": [],
   "source": [
    "import pandas\n",
    "from requests import get\n",
    "import re\n",
    "from bs4 import BeautifulSoup"
   ]
  },
  {
   "cell_type": "code",
   "execution_count": 23,
   "id": "445fe3a1",
   "metadata": {},
   "outputs": [
    {
     "data": {
      "text/plain": [
       "<Response [200]>"
      ]
     },
     "execution_count": 23,
     "metadata": {},
     "output_type": "execute_result"
    }
   ],
   "source": [
    "# getting a response\n",
    "url = 'https://codeup.com/blog/'\n",
    "headers = {'User-Agent': 'Codeup Data Science'} # Some websites don't accept the pyhon-requests default user-agent\n",
    "response = get(url, headers=headers)\n",
    "response"
   ]
  },
  {
   "cell_type": "code",
   "execution_count": 26,
   "id": "3d85d17c",
   "metadata": {},
   "outputs": [],
   "source": [
    "# getting soup\n",
    "soup = BeautifulSoup(response.content, 'html.parser')"
   ]
  },
  {
   "cell_type": "code",
   "execution_count": 54,
   "id": "aacf309e",
   "metadata": {},
   "outputs": [
    {
     "data": {
      "text/plain": [
       "[<a href=\"https://codeup.com/featured/women-in-tech-panelist-spotlight/\">Women in tech: Panelist Spotlight – Magdalena Rahn</a>,\n",
       " <a href=\"https://codeup.com/featured/women-in-tech-rachel-robbins-mayhill/\">Women in tech: Panelist Spotlight – Rachel Robbins-Mayhill</a>,\n",
       " <a href=\"https://codeup.com/codeup-news/women-in-tech-panelist-spotlight-sarah-mellor/\">Women in Tech: Panelist Spotlight – Sarah Mellor</a>,\n",
       " <a href=\"https://codeup.com/events/women-in-tech-madeleine/\">Women in Tech: Panelist Spotlight – Madeleine Capper</a>,\n",
       " <a href=\"https://codeup.com/codeup-news/panelist-spotlight-4/\">Black Excellence in Tech: Panelist Spotlight – Wilmarie De La Cruz Mejia</a>,\n",
       " <a href=\"https://codeup.com/events/black-excellence-in-tech-panelist-spotlight-stephanie-jones/\">Black excellence in tech: Panelist Spotlight – Stephanie Jones</a>]"
      ]
     },
     "execution_count": 54,
     "metadata": {},
     "output_type": "execute_result"
    }
   ],
   "source": [
    "# checking out the headers\n",
    "all_h2 = soup.find_all(['h2'])\n",
    "\n",
    "# creating list to hold the 'a'\n",
    "all_a = []\n",
    "\n",
    "# for each header2 in list of header2's\n",
    "for h2 in all_h2:\n",
    "    \n",
    "    # find the 'a' and add it to the list of all_s\n",
    "    all_a.append(h2.find('a'))\n",
    "\n",
    "# show me the list of all_a\n",
    "all_a.remove(None)\n",
    "all_a"
   ]
  },
  {
   "cell_type": "code",
   "execution_count": 45,
   "id": "d9d077f2",
   "metadata": {},
   "outputs": [
    {
     "data": {
      "text/plain": [
       "'https://codeup.com/featured/women-in-tech-panelist-spotlight/'"
      ]
     },
     "execution_count": 45,
     "metadata": {},
     "output_type": "execute_result"
    }
   ],
   "source": [
    "# looking into href\n",
    "all_a[0]['href']"
   ]
  },
  {
   "cell_type": "code",
   "execution_count": 56,
   "id": "f0cbc945",
   "metadata": {},
   "outputs": [
    {
     "data": {
      "text/plain": [
       "['https://codeup.com/featured/women-in-tech-panelist-spotlight/',\n",
       " 'https://codeup.com/featured/women-in-tech-rachel-robbins-mayhill/',\n",
       " 'https://codeup.com/codeup-news/women-in-tech-panelist-spotlight-sarah-mellor/',\n",
       " 'https://codeup.com/events/women-in-tech-madeleine/',\n",
       " 'https://codeup.com/codeup-news/panelist-spotlight-4/']"
      ]
     },
     "execution_count": 56,
     "metadata": {},
     "output_type": "execute_result"
    }
   ],
   "source": [
    "# initialize link lis\n",
    "links_from_blog = []\n",
    "\n",
    "# for each element in the list of a\n",
    "for i in range(len(all_a)-1):\n",
    "    \n",
    "    # add the links to a list for links\n",
    "    links_from_blog.append(all_a[i]['href'])\n",
    "\n",
    "# show me the links from the main blog page\n",
    "links_from_blog"
   ]
  },
  {
   "cell_type": "code",
   "execution_count": 57,
   "id": "3a3a5b58",
   "metadata": {},
   "outputs": [],
   "source": [
    "def get_blog_links():\n",
    "    '''\n",
    "    Gets a list of article links from the codeup blog\n",
    "    Modules:\n",
    "    import pandas as pd\n",
    "    from requests import get\n",
    "    from bs4 import BeautifulSoup\n",
    "    '''\n",
    "    # getting a response\n",
    "    url = 'https://codeup.com/blog/'\n",
    "    headers = {'User-Agent': 'Codeup Data Science'} # Some websites don't accept the pyhon-requests default user-agent\n",
    "    response = get(url, headers=headers)\n",
    "    response\n",
    "    \n",
    "    # getting soup\n",
    "    soup = BeautifulSoup(response.content, 'html.parser')\n",
    "\n",
    "    # checking out the headers\n",
    "    all_h2 = soup.find_all(['h2'])\n",
    "\n",
    "    # creating list to hold the 'a'\n",
    "    all_a = []\n",
    "\n",
    "    # for each header2 in list of header2's\n",
    "    for h2 in all_h2:\n",
    "\n",
    "        # find the 'a' and add it to the list of all_s\n",
    "        all_a.append(h2.find('a'))\n",
    "\n",
    "    # show me the list of all_a\n",
    "    all_a.remove(None)\n",
    "    all_a\n",
    "\n",
    "    # initialize link lis\n",
    "    links_from_blog = []\n",
    "\n",
    "    # for each element in the list of a\n",
    "    for i in range(len(all_a)-1):\n",
    "\n",
    "        # add the links to a list for links\n",
    "        links_from_blog.append(all_a[i]['href'])\n",
    "\n",
    "    # show me the links from the main blog page\n",
    "    return links_from_blog"
   ]
  },
  {
   "cell_type": "code",
   "execution_count": 58,
   "id": "2d25a8f7",
   "metadata": {},
   "outputs": [],
   "source": [
    "blog_links = get_blog_links()"
   ]
  },
  {
   "cell_type": "code",
   "execution_count": null,
   "id": "e31f0ea9",
   "metadata": {},
   "outputs": [],
   "source": []
  },
  {
   "cell_type": "code",
   "execution_count": 59,
   "id": "e084d4b1",
   "metadata": {},
   "outputs": [
    {
     "data": {
      "text/plain": [
       "['https://codeup.com/featured/women-in-tech-panelist-spotlight/',\n",
       " 'https://codeup.com/featured/women-in-tech-rachel-robbins-mayhill/',\n",
       " 'https://codeup.com/codeup-news/women-in-tech-panelist-spotlight-sarah-mellor/',\n",
       " 'https://codeup.com/events/women-in-tech-madeleine/',\n",
       " 'https://codeup.com/codeup-news/panelist-spotlight-4/']"
      ]
     },
     "execution_count": 59,
     "metadata": {},
     "output_type": "execute_result"
    }
   ],
   "source": [
    "blog_links"
   ]
  },
  {
   "cell_type": "code",
   "execution_count": 117,
   "id": "8c07189b",
   "metadata": {},
   "outputs": [],
   "source": [
    "def get_title_article_text(url):\n",
    "    '''\n",
    "    Takes a url for the codeup blog and returns the title and article in string format\n",
    "    Modules:\n",
    "    from requests import get\n",
    "    from bs4 import BeautifulSoup\n",
    "    '''\n",
    "    # set headers\n",
    "    headers = {'User-Agent': 'Codeup Data Science'}\n",
    "    \n",
    "    # get the url responses\n",
    "    response = get(url, headers=headers)\n",
    "    \n",
    "    # get soup from response\n",
    "    soup = BeautifulSoup(response.text)\n",
    "    \n",
    "    # get the article\n",
    "    article = soup.find('div', id='main-content')\n",
    "    \n",
    "    # get the title\n",
    "    title = soup.find('title')\n",
    "\n",
    "    # exti function and return title and article text\n",
    "    return title.text, article.text"
   ]
  },
  {
   "cell_type": "code",
   "execution_count": 92,
   "id": "176af81e",
   "metadata": {},
   "outputs": [
    {
     "data": {
      "text/plain": [
       "'Women in tech: Panelist Spotlight – Magdalena Rahn -'"
      ]
     },
     "execution_count": 92,
     "metadata": {},
     "output_type": "execute_result"
    }
   ],
   "source": [
    "get_article_text('https://codeup.com/featured/women-in-tech-panelist-spotlight/')[0]"
   ]
  },
  {
   "cell_type": "code",
   "execution_count": 91,
   "id": "c4047b1a",
   "metadata": {},
   "outputs": [
    {
     "data": {
      "text/plain": [
       "'Women in tech: Panelist Spotlight – Magdalena Rahn -'"
      ]
     },
     "execution_count": 91,
     "metadata": {},
     "output_type": "execute_result"
    }
   ],
   "source": []
  },
  {
   "cell_type": "code",
   "execution_count": 120,
   "id": "8ff381d2",
   "metadata": {},
   "outputs": [
    {
     "data": {
      "text/plain": [
       "{0: {'title': 'Women in tech: Panelist Spotlight – Magdalena Rahn -',\n",
       "  'content': '\\n\\n\\n\\n\\n\\nWomen in tech: Panelist Spotlight – Magdalena Rahn\\nMar 28, 2023 | Events, Featured\\n\\n\\nWomen in tech: Panelist Spotlight – Magdalena Rahn\\nCodeup is hosting a Women in Tech Panel in honor of Women’s History Month on March 29th, 2023! To further celebrate, we’d like to spotlight each of our panelists leading up to the discussion to learn a bit about their respective experiences as women in the tech industry!\\n\\nMeet Magdalena!\\nMagdalena Rahn is a current Codeup student in a Data Science cohort in San Antonio, Texas. She has a professional background in cross-cultural communications, international business development, the wine industry and journalism. After serving in the US Navy, she decided to complement her professional skill set by attending the Data Science program at Codeup; she is set to graduate in March 2023. Magdalena is fluent in French, Bulgarian, Chinese-Mandarin, Spanish and Italian.\\nWe asked Magdalena how Codeup impacted her career, and she replied “Codeup has provided a solid foundation in analytical processes, programming and data science methods, and it’s been an encouragement to have such supportive instructors and wonderful classmates.”\\nDon’t forget to tune in on March 29th to sit in on an insightful conversation with Magdalena.\\n\\n\\n\\n\\n\\n\\n\\n\\nOur ProgramsCloud Administration\\nFull Stack Web Development\\nData Science\\n\\n\\n\\n\\n\\nLatest Blog Articles\\nWomen in tech: Panelist Spotlight – Magdalena Rahn\\nWomen in tech: Panelist Spotlight – Rachel Robbins-Mayhill\\nWomen in Tech: Panelist Spotlight – Sarah Mellor\\nWomen in Tech: Panelist Spotlight – Madeleine Capper\\nBlack Excellence in Tech: Panelist Spotlight – Wilmarie De La Cruz Mejia\\n\\n\\n\\n\\n\\n\\n\\n\\n\\n\\n\\n\\n\\n\\n\\n\\n\\n \\n\\n\\n'},\n",
       " 1: {'title': 'Women in tech: Panelist Spotlight - Rachel Robbins-Mayhill',\n",
       "  'content': '\\n\\n\\n\\n\\n\\nWomen in tech: Panelist Spotlight – Rachel Robbins-Mayhill\\nMar 20, 2023 | Events, Featured\\n\\n\\nWomen in tech: Panelist Spotlight – Rachel Robbins-Mayhill\\nCodeup is hosting a Women in Tech Panel in honor of Women’s History Month on March 29th, 2023! To further celebrate, we’d like to spotlight each of our panelists leading up to the discussion to learn a bit about their respective experiences as women in the tech industry! Meet Rachel!\\n\\nRachel Robbins-Mayhill is a Decision Science Analyst I in San Antonio, Texas. Rachel has had a varied career that includes counseling, teaching, training, community development, and military operations. Her focus has always been on assessing needs, identifying solutions, and educating individuals and groups on aligning needs and solutions in different contexts. Rachel’s passion for data science stems from her belief that data is a powerful tool for communicating patterns that can lead to hope and growth in the future.\\nIn June 2022, Rachel graduated from Codeup’s Innis cohort, where she honed her skills in data science. Shortly after, she started working as a Data Science Technical Writer with Apex Systems as a Contractor for USAA in July 2022. Her unconventional role allowed her to understand where her skills could be best utilized to support USAA in a non-contract role.\\nRachel recently joined USAA’s Data Science Delivery team as a Decision Science Analyst I in February 2023. The team is focused on delivering machine learning models for fraud prevention, and Rachel’s particular role centers around providing strategic process solutions for the team in collaboration with Operational and Model Risk components.\\nIn addition to her career, Rachel is currently pursuing a master’s degree in Applied Data Science from Syracuse University, further expanding her knowledge and skills in the field. Rachel is passionate about collaborating with individuals who share her belief in the potential of others and strive to achieve growth through logical, informed action. She welcomes LinkedIn connections and is excited about supporting the network of CodeUp alumni!\\nWe asked Rachel how Codeup impacted her career, and she replied “Codeup delivered a comprehensive education in all facets of the data science pipeline, laying a strong foundation for me to build upon. Through repeated hands-on practice, I developed a reliable process that was immediately applicable in my job. Collaborative group projects were instrumental in helping me hone my skills in project management, allowing me to navigate complex data science projects with comfortability. Thanks to this invaluable experience, I was able to make significant strides in my career within just six months of graduating from Codeup.”\\nDon’t forget to tune in on March 29th to sit in on an insightful conversation.\\n\\n\\n\\n\\n\\n\\n\\n\\nOur ProgramsCloud Administration\\nFull Stack Web Development\\nData Science\\n\\n\\n\\n\\n\\nLatest Blog Articles\\nWomen in tech: Panelist Spotlight – Magdalena Rahn\\nWomen in tech: Panelist Spotlight – Rachel Robbins-Mayhill\\nWomen in Tech: Panelist Spotlight – Sarah Mellor\\nWomen in Tech: Panelist Spotlight – Madeleine Capper\\nBlack Excellence in Tech: Panelist Spotlight – Wilmarie De La Cruz Mejia\\n\\n\\n\\n\\n\\n\\n\\n\\n\\n\\n\\n\\n\\n\\n\\n\\n\\n \\n\\n\\n'},\n",
       " 2: {'title': 'Women in Tech: Panelist Spotlight - Sarah Mellor - Codeup',\n",
       "  'content': '\\n\\n\\n\\n\\n\\nWomen in Tech: Panelist Spotlight – Sarah Mellor\\nMar 13, 2023 | Codeup News, Featured\\n\\n\\nWomen in tech: Panelist Spotlight – Sarah Mellor\\xa0\\nCodeup is hosting a Women in Tech Panel in honor of Women’s History Month on March 29th, 2023! To further celebrate, we’d like to spotlight each of our panelists leading up to the discussion to learn a bit about their respective experiences as women in the tech industry!\\nMeet Sarah!\\nSarah Mellor currently works as the Director of People Operations. She joined Codeup four and a half years ago as an Admissions Manager. She went on to build out and lead the Marketing and Admissions team, while picking up People Ops tasks and projects here and there until moving over to lead the People Ops team two years ago. Prior to Codeup, she worked at education-focused non-profits in Washington, DC and Boulder, Colorado. She graduated from Wake Forest University.\\nWe asked Sarah how Codeup has impacted her career, and her response was “I have absolutely loved having the privilege to grow alongside Codeup. In my time here across multiple different roles and departments, I’ve seen a lot of change. The consistent things have always been the high quality of passionate and hardworking people I get to work with; the impactful mission we get to work on; and the inspiring students who trust us with their career change.”\\nDon’t forget to tune in on March 29th to sit in on an insightful conversation.\\n\\n\\n\\n\\n\\n\\n\\n\\nOur ProgramsCloud Administration\\nFull Stack Web Development\\nData Science\\n\\n\\n\\n\\n\\nLatest Blog Articles\\nWomen in tech: Panelist Spotlight – Magdalena Rahn\\nWomen in tech: Panelist Spotlight – Rachel Robbins-Mayhill\\nWomen in Tech: Panelist Spotlight – Sarah Mellor\\nWomen in Tech: Panelist Spotlight – Madeleine Capper\\nBlack Excellence in Tech: Panelist Spotlight – Wilmarie De La Cruz Mejia\\n\\n\\n\\n\\n\\n\\n\\n\\n\\n\\n\\n\\n\\n\\n\\n\\n\\n \\n\\n\\n'},\n",
       " 3: {'title': 'Women in Tech: Panelist Spotlight - Madeleine Capper - Codeup',\n",
       "  'content': '\\n\\n\\n\\n\\n\\nWomen in Tech: Panelist Spotlight – Madeleine Capper\\nMar 6, 2023 | Events, Featured\\n\\n\\nWomen in tech: Panelist Spotlight – Madeleine Capper\\nCodeup is hosting a Women in Tech Panel in honor of Women’s History Month on March 29th, 2023! To further celebrate, we’d like to spotlight each of our panelists leading up to the discussion to learn a bit about their respective experiences as women in the tech industry!\\nMeet Madeleine!\\nMadeleine Capper is a Data Scientist in San Antonio, Texas. A long-standing San Antonio resident, she studied mathematics at the University of Texas San Antonio and has worked as a Data Scientist for Booz Allen Hamilton. Madeleine currently teaches Data Science at Codeup, where she works daily with burgeoning data professionals to help them actualize their career aspirations through technical education.\\nMadeleine attended Codeup as a student in early 2019 as a pupil in the very first Codeup Data Science cohort. The program proved immediately effective and she was the first student to obtain a data career out of the program. After working at Booz Allen Hamilton, Madeleine’s passion for education in conjunction with her appreciation for Codeup’s capacity for transformative life change brought her back to the institution in an instructional capacity, where she has been teaching for two years.\\nDon’t forget to tune in on March 29th to sit in on an insightful conversation.\\n\\n\\n\\n\\n\\n\\n\\n\\nOur ProgramsCloud Administration\\nFull Stack Web Development\\nData Science\\n\\n\\n\\n\\n\\nLatest Blog Articles\\nWomen in tech: Panelist Spotlight – Magdalena Rahn\\nWomen in tech: Panelist Spotlight – Rachel Robbins-Mayhill\\nWomen in Tech: Panelist Spotlight – Sarah Mellor\\nWomen in Tech: Panelist Spotlight – Madeleine Capper\\nBlack Excellence in Tech: Panelist Spotlight – Wilmarie De La Cruz Mejia\\n\\n\\n\\n\\n\\n\\n\\n\\n\\n\\n\\n\\n\\n\\n\\n\\n\\n \\n\\n\\n'},\n",
       " 4: {'title': 'Black Excellence in Tech: Panelist Spotlight - Wilmarie De La Cruz Mejia',\n",
       "  'content': '\\n\\n\\n\\n\\n\\nBlack Excellence in Tech: Panelist Spotlight – Wilmarie De La Cruz Mejia\\nFeb 16, 2023 | Codeup News, Events, Featured\\n\\n\\nBlack excellence in tech: Panelist Spotlight – Wilmarie De La Cruz Mejia\\n\\nCodeup is hosting a Black Excellence in Tech Panel in honor of Black History Month on February 22, 2023! To further celebrate, we’d like to spotlight each of our panelists leading up to the discussion to learn a bit about their respective experiences as black leaders in the tech industry!\\xa0\\xa0\\nMeet Wilmarie!\\nWilmarie De\\xa0La Cruz Mejia is a current Codeup student on the path to becoming a Full-Stack Web Developer at our Dallas, TX campus.\\xa0\\nWilmarie is a veteran expanding her knowledge of programming languages and technologies on her journey with Codeup.\\xa0\\nWe asked Wilmarie to share more about her experience at Codeup. She shares, “I was able to meet other people who were passionate about coding and be in a positive learning environment.”\\nWe hope you can join us on February 22nd to sit in on an insightful conversation with Wilmarie and all of our panelists!\\n\\n\\n\\n\\n\\n\\n\\n\\nOur ProgramsCloud Administration\\nFull Stack Web Development\\nData Science\\n\\n\\n\\n\\n\\nLatest Blog Articles\\nWomen in tech: Panelist Spotlight – Magdalena Rahn\\nWomen in tech: Panelist Spotlight – Rachel Robbins-Mayhill\\nWomen in Tech: Panelist Spotlight – Sarah Mellor\\nWomen in Tech: Panelist Spotlight – Madeleine Capper\\nBlack Excellence in Tech: Panelist Spotlight – Wilmarie De La Cruz Mejia\\n\\n\\n\\n\\n\\n\\n\\n\\n\\n\\n\\n\\n\\n\\n\\n\\n\\n \\n\\n\\n'}}"
      ]
     },
     "execution_count": 120,
     "metadata": {},
     "output_type": "execute_result"
    }
   ],
   "source": [
    "# intialize the dictionary\n",
    "blog_articles = {}\n",
    "\n",
    "# for each url in the blog links, along with an index\n",
    "for i, url in enumerate(blog_links):\n",
    "    \n",
    "    # create a new entry in the dictionary that corresponds with the index\n",
    "    blog_articles[i] = {'title': get_title_article_text(url)[0], # call function to get the title text (0th item returned) store it as the title value \n",
    "     'content': get_title_article_text(url)[1]} # call the function to get the main content text (1st item returns) and store it as the content value\n",
    "    \n",
    "blog_articles"
   ]
  },
  {
   "cell_type": "code",
   "execution_count": 1,
   "id": "00ca06b2",
   "metadata": {},
   "outputs": [],
   "source": [
    "def get_blog_articles():\n",
    "    '''\n",
    "    Gets a list of blog links, creates dictionary of dictionaries that hold blog tiltles and blog articles\n",
    "    Modules:\n",
    "    from acquire import get_blog_links\n",
    "    from acquire import get_title_article_text\n",
    "    '''\n",
    "    # get blog links from main codeup blog page\n",
    "    blog_links = get_blog_links()\n",
    "    \n",
    "    # intialize the dictionary\n",
    "    blog_articles = {}\n",
    "\n",
    "    # for each url in the blog links, along with an index\n",
    "    for i, url in enumerate(blog_links):\n",
    "\n",
    "        # create a new entry in the dictionary that corresponds with the index\n",
    "        blog_articles[i] = {'title': get_title_article_text(url)[0], # call function to get the title text (0th item returned) store it as the title value \\\n",
    "                            'content': get_title_article_text(url)[1]} # call the function to get the main content text (1st item returns) and store it as the content value\n",
    "        \n",
    "        # removing the \\n from the text\n",
    "        blog_articles[i]['title'] = re.sub(r\"\\n\", ' ',blog_articles[i]['title'])\n",
    "        blog_articles[i]['content'] = re.sub(r\"\\n\", ' ',blog_articles[i]['content'])\n",
    "        \n",
    "\n",
    "    # exit functyion and returns dictionary of dictionaries \n",
    "    return blog_articles"
   ]
  },
  {
   "cell_type": "code",
   "execution_count": 2,
   "id": "68c738ad",
   "metadata": {},
   "outputs": [
    {
     "ename": "NameError",
     "evalue": "name 'get_blog_links' is not defined",
     "output_type": "error",
     "traceback": [
      "\u001b[0;31m---------------------------------------------------------------------------\u001b[0m",
      "\u001b[0;31mNameError\u001b[0m                                 Traceback (most recent call last)",
      "Input \u001b[0;32mIn [2]\u001b[0m, in \u001b[0;36m<cell line: 2>\u001b[0;34m()\u001b[0m\n\u001b[1;32m      1\u001b[0m \u001b[38;5;66;03m# testing the function\u001b[39;00m\n\u001b[0;32m----> 2\u001b[0m blog_articles \u001b[38;5;241m=\u001b[39m \u001b[43mget_blog_articles\u001b[49m\u001b[43m(\u001b[49m\u001b[43m)\u001b[49m\n",
      "Input \u001b[0;32mIn [1]\u001b[0m, in \u001b[0;36mget_blog_articles\u001b[0;34m()\u001b[0m\n\u001b[1;32m      2\u001b[0m \u001b[38;5;124;03m'''\u001b[39;00m\n\u001b[1;32m      3\u001b[0m \u001b[38;5;124;03mGets a list of blog links, creates dictionary of dictionaries that hold blog tiltles and blog articles\u001b[39;00m\n\u001b[1;32m      4\u001b[0m \u001b[38;5;124;03mModules:\u001b[39;00m\n\u001b[1;32m      5\u001b[0m \u001b[38;5;124;03mfrom acquire import get_blog_links\u001b[39;00m\n\u001b[1;32m      6\u001b[0m \u001b[38;5;124;03mfrom acquire import get_title_article_text\u001b[39;00m\n\u001b[1;32m      7\u001b[0m \u001b[38;5;124;03m'''\u001b[39;00m\n\u001b[1;32m      8\u001b[0m \u001b[38;5;66;03m# get blog links from main codeup blog page\u001b[39;00m\n\u001b[0;32m----> 9\u001b[0m blog_links \u001b[38;5;241m=\u001b[39m \u001b[43mget_blog_links\u001b[49m()\n\u001b[1;32m     11\u001b[0m \u001b[38;5;66;03m# intialize the dictionary\u001b[39;00m\n\u001b[1;32m     12\u001b[0m blog_articles \u001b[38;5;241m=\u001b[39m {}\n",
      "\u001b[0;31mNameError\u001b[0m: name 'get_blog_links' is not defined"
     ]
    }
   ],
   "source": [
    "# testing the function\n",
    "blog_articles = get_blog_articles()"
   ]
  },
  {
   "cell_type": "code",
   "execution_count": 127,
   "id": "4f1dbd70",
   "metadata": {},
   "outputs": [
    {
     "name": "stdout",
     "output_type": "stream",
     "text": [
      "Women in tech: Panelist Spotlight – Magdalena Rahn -\n",
      "Women in tech: Panelist Spotlight - Rachel Robbins-Mayhill\n",
      "Women in Tech: Panelist Spotlight - Sarah Mellor - Codeup\n",
      "Women in Tech: Panelist Spotlight - Madeleine Capper - Codeup\n",
      "Black Excellence in Tech: Panelist Spotlight - Wilmarie De La Cruz Mejia\n"
     ]
    }
   ],
   "source": [
    "# checking titles\n",
    "# success\n",
    "for i in blog_articles:\n",
    "    print(blog_articles[i]['title'])"
   ]
  }
 ],
 "metadata": {
  "kernelspec": {
   "display_name": "Python 3 (ipykernel)",
   "language": "python",
   "name": "python3"
  },
  "language_info": {
   "codemirror_mode": {
    "name": "ipython",
    "version": 3
   },
   "file_extension": ".py",
   "mimetype": "text/x-python",
   "name": "python",
   "nbconvert_exporter": "python",
   "pygments_lexer": "ipython3",
   "version": "3.9.13"
  }
 },
 "nbformat": 4,
 "nbformat_minor": 5
}
